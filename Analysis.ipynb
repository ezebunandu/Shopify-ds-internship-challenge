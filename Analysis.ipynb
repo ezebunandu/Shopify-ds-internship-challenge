{
 "cells": [
  {
   "cell_type": "markdown",
   "metadata": {},
   "source": [
    "# Winter 2021 Shopify Data Science Internship Challenge Solution"
   ]
  },
  {
   "cell_type": "code",
   "execution_count": 1,
   "metadata": {},
   "outputs": [],
   "source": [
    "import pandas as pd\n",
    "import numpy as np\n",
    "import seaborn as sns\n",
    "import matplotlib.pyplot as plt\n",
    "import sqlite3\n",
    "%matplotlib inline\n",
    "sns.set()"
   ]
  },
  {
   "cell_type": "markdown",
   "metadata": {},
   "source": [
    "## Question 1"
   ]
  },
  {
   "cell_type": "markdown",
   "metadata": {},
   "source": [
    "A copy of the reference data stored was downloaded and stored at `data/2019 Winter Data Science Intern Challenge Data Set - Sheet1.csv` and will be analysed to answer the questions posed."
   ]
  },
  {
   "cell_type": "code",
   "execution_count": 2,
   "metadata": {},
   "outputs": [],
   "source": [
    "data = pd.read_csv('data/2019 Winter Data Science Intern Challenge Data Set - Sheet1.csv')"
   ]
  },
  {
   "cell_type": "code",
   "execution_count": 3,
   "metadata": {},
   "outputs": [
    {
     "data": {
      "text/html": [
       "<div>\n",
       "<style scoped>\n",
       "    .dataframe tbody tr th:only-of-type {\n",
       "        vertical-align: middle;\n",
       "    }\n",
       "\n",
       "    .dataframe tbody tr th {\n",
       "        vertical-align: top;\n",
       "    }\n",
       "\n",
       "    .dataframe thead th {\n",
       "        text-align: right;\n",
       "    }\n",
       "</style>\n",
       "<table border=\"1\" class=\"dataframe\">\n",
       "  <thead>\n",
       "    <tr style=\"text-align: right;\">\n",
       "      <th></th>\n",
       "      <th>order_id</th>\n",
       "      <th>shop_id</th>\n",
       "      <th>user_id</th>\n",
       "      <th>order_amount</th>\n",
       "      <th>total_items</th>\n",
       "      <th>payment_method</th>\n",
       "      <th>created_at</th>\n",
       "    </tr>\n",
       "  </thead>\n",
       "  <tbody>\n",
       "    <tr>\n",
       "      <th>0</th>\n",
       "      <td>1</td>\n",
       "      <td>53</td>\n",
       "      <td>746</td>\n",
       "      <td>224</td>\n",
       "      <td>2</td>\n",
       "      <td>cash</td>\n",
       "      <td>2017-03-13 12:36:56</td>\n",
       "    </tr>\n",
       "    <tr>\n",
       "      <th>1</th>\n",
       "      <td>2</td>\n",
       "      <td>92</td>\n",
       "      <td>925</td>\n",
       "      <td>90</td>\n",
       "      <td>1</td>\n",
       "      <td>cash</td>\n",
       "      <td>2017-03-03 17:38:52</td>\n",
       "    </tr>\n",
       "    <tr>\n",
       "      <th>2</th>\n",
       "      <td>3</td>\n",
       "      <td>44</td>\n",
       "      <td>861</td>\n",
       "      <td>144</td>\n",
       "      <td>1</td>\n",
       "      <td>cash</td>\n",
       "      <td>2017-03-14 4:23:56</td>\n",
       "    </tr>\n",
       "    <tr>\n",
       "      <th>3</th>\n",
       "      <td>4</td>\n",
       "      <td>18</td>\n",
       "      <td>935</td>\n",
       "      <td>156</td>\n",
       "      <td>1</td>\n",
       "      <td>credit_card</td>\n",
       "      <td>2017-03-26 12:43:37</td>\n",
       "    </tr>\n",
       "    <tr>\n",
       "      <th>4</th>\n",
       "      <td>5</td>\n",
       "      <td>18</td>\n",
       "      <td>883</td>\n",
       "      <td>156</td>\n",
       "      <td>1</td>\n",
       "      <td>credit_card</td>\n",
       "      <td>2017-03-01 4:35:11</td>\n",
       "    </tr>\n",
       "  </tbody>\n",
       "</table>\n",
       "</div>"
      ],
      "text/plain": [
       "   order_id  shop_id  user_id  order_amount  total_items payment_method  \\\n",
       "0         1       53      746           224            2           cash   \n",
       "1         2       92      925            90            1           cash   \n",
       "2         3       44      861           144            1           cash   \n",
       "3         4       18      935           156            1    credit_card   \n",
       "4         5       18      883           156            1    credit_card   \n",
       "\n",
       "            created_at  \n",
       "0  2017-03-13 12:36:56  \n",
       "1  2017-03-03 17:38:52  \n",
       "2   2017-03-14 4:23:56  \n",
       "3  2017-03-26 12:43:37  \n",
       "4   2017-03-01 4:35:11  "
      ]
     },
     "execution_count": 3,
     "metadata": {},
     "output_type": "execute_result"
    }
   ],
   "source": [
    "data.head()"
   ]
  },
  {
   "cell_type": "code",
   "execution_count": 4,
   "metadata": {},
   "outputs": [
    {
     "name": "stdout",
     "output_type": "stream",
     "text": [
      "<class 'pandas.core.frame.DataFrame'>\n",
      "RangeIndex: 5000 entries, 0 to 4999\n",
      "Data columns (total 7 columns):\n",
      " #   Column          Non-Null Count  Dtype \n",
      "---  ------          --------------  ----- \n",
      " 0   order_id        5000 non-null   int64 \n",
      " 1   shop_id         5000 non-null   int64 \n",
      " 2   user_id         5000 non-null   int64 \n",
      " 3   order_amount    5000 non-null   int64 \n",
      " 4   total_items     5000 non-null   int64 \n",
      " 5   payment_method  5000 non-null   object\n",
      " 6   created_at      5000 non-null   object\n",
      "dtypes: int64(5), object(2)\n",
      "memory usage: 273.6+ KB\n"
     ]
    }
   ],
   "source": [
    "# Quick check to confirm that there are no missing values in the data\n",
    "data.info()"
   ]
  },
  {
   "cell_type": "markdown",
   "metadata": {},
   "source": [
    "The challenge prompt did mention that there 100 sneaker shops, so I am going to count the number of unique shop_ids as a smell test to give some confidence that the data is indeed what it says."
   ]
  },
  {
   "cell_type": "code",
   "execution_count": 5,
   "metadata": {},
   "outputs": [
    {
     "name": "stdout",
     "output_type": "stream",
     "text": [
      "The number of sneaker shops in the dataset is: 100\n"
     ]
    }
   ],
   "source": [
    "number_of_sneaker_shops = data['shop_id'].nunique()\n",
    "print(f\"The number of sneaker shops in the dataset is: {number_of_sneaker_shops}\")"
   ]
  },
  {
   "cell_type": "markdown",
   "metadata": {},
   "source": [
    "Everything looks good with the data thus far. As the first step in the analysis, I want to compute the Average Order Value (AOV) as described in the question prompt. "
   ]
  },
  {
   "cell_type": "code",
   "execution_count": 6,
   "metadata": {},
   "outputs": [],
   "source": [
    "# Make a datetime index from the `created_at` column to make time-series analysis easier\n",
    "data.index =  pd.to_datetime(data['created_at'])"
   ]
  },
  {
   "cell_type": "code",
   "execution_count": 7,
   "metadata": {},
   "outputs": [
    {
     "data": {
      "text/plain": [
       "(Timestamp('2017-03-30 23:55:35'), Timestamp('2017-03-01 00:08:09'))"
      ]
     },
     "execution_count": 7,
     "metadata": {},
     "output_type": "execute_result"
    }
   ],
   "source": [
    "# Check for the time period in the dataset\n",
    "data.index.max(), data.index.min()"
   ]
  },
  {
   "cell_type": "markdown",
   "metadata": {},
   "source": [
    "All of the transactions in the dataset occured within March 2017, so the Month grouping wouldn't make much difference, but would not hurt either. We can compute the average of order_amount as below."
   ]
  },
  {
   "cell_type": "code",
   "execution_count": 8,
   "metadata": {},
   "outputs": [
    {
     "name": "stdout",
     "output_type": "stream",
     "text": [
      "The Average Order Value is: $3145.13\n"
     ]
    }
   ],
   "source": [
    "AOV = data.groupby(pd.Grouper(freq='M'))['order_amount'].mean().values[0]\n",
    "print(f\"The Average Order Value is: ${AOV:.2f}\")"
   ]
  },
  {
   "cell_type": "markdown",
   "metadata": {},
   "source": [
    "### 1a)"
   ]
  },
  {
   "cell_type": "markdown",
   "metadata": {},
   "source": [
    "A few things come to mind when thinking of the average order value calculated above:\n",
    "\n",
    "* are there any outliers orders of very high amounts that may be pulling the average up?\n",
    "* what metric are we really trying to compute? Some measure of the value of each unit of item ordered or some measure of the total value of each order?\n",
    "* does the order_amount represent the total value of each order? If yes, then we would need to consider the quantity of items ordered, if we wanted to get a sense of the value of each item in the order ? "
   ]
  },
  {
   "cell_type": "markdown",
   "metadata": {},
   "source": [
    "The first step in search of a solution, is to look at the distribution of order amount, via a histogram."
   ]
  },
  {
   "cell_type": "code",
   "execution_count": 9,
   "metadata": {},
   "outputs": [
    {
     "data": {
      "image/png": "[encoded data removed]",
      "text/plain": [
       "<Figure size 864x720 with 1 Axes>"
      ]
     },
     "metadata": {},
     "output_type": "display_data"
    }
   ],
   "source": [
    "# Plot histogram of Order_amount\n",
    "fig, ax = plt.subplots(1,1, figsize=(12, 10), tight_layout=True)\n",
    "n, bins, patches = ax.hist(data['order_amount'], 50, facecolor='b', alpha=0.75)\n",
    "\n",
    "\n",
    "plt.xlabel('Order Amount', fontsize=14)\n",
    "plt.ylabel('Number of Orders', fontsize=14, )\n",
    "plt.title('Histogram of Order Amount', fontsize=16)\n",
    "plt.grid(True)\n",
    "plt.show()"
   ]
  },
  {
   "cell_type": "markdown",
   "metadata": {},
   "source": [
    "We can see from the histogram above that even though most of the orders are less than 50,000 in value, there are outliers lieing close to 700,000. These outliers will definitely skew the averages we calculate and are the reason we are getting such a high average order value."
   ]
  },
  {
   "cell_type": "markdown",
   "metadata": {},
   "source": [
    "We can zoom into these high value orders, to see if we can get a sense of why there are sneaker orders costing so much."
   ]
  },
  {
   "cell_type": "code",
   "execution_count": 10,
   "metadata": {},
   "outputs": [
    {
     "data": {
      "text/html": [
       "<div>\n",
       "<style scoped>\n",
       "    .dataframe tbody tr th:only-of-type {\n",
       "        vertical-align: middle;\n",
       "    }\n",
       "\n",
       "    .dataframe tbody tr th {\n",
       "        vertical-align: top;\n",
       "    }\n",
       "\n",
       "    .dataframe thead th {\n",
       "        text-align: right;\n",
       "    }\n",
       "</style>\n",
       "<table border=\"1\" class=\"dataframe\">\n",
       "  <thead>\n",
       "    <tr style=\"text-align: right;\">\n",
       "      <th></th>\n",
       "      <th>order_id</th>\n",
       "      <th>shop_id</th>\n",
       "      <th>user_id</th>\n",
       "      <th>order_amount</th>\n",
       "      <th>total_items</th>\n",
       "      <th>payment_method</th>\n",
       "      <th>created_at</th>\n",
       "    </tr>\n",
       "    <tr>\n",
       "      <th>created_at</th>\n",
       "      <th></th>\n",
       "      <th></th>\n",
       "      <th></th>\n",
       "      <th></th>\n",
       "      <th></th>\n",
       "      <th></th>\n",
       "      <th></th>\n",
       "    </tr>\n",
       "  </thead>\n",
       "  <tbody>\n",
       "    <tr>\n",
       "      <th>2017-03-07 04:00:00</th>\n",
       "      <td>16</td>\n",
       "      <td>42</td>\n",
       "      <td>607</td>\n",
       "      <td>704000</td>\n",
       "      <td>2000</td>\n",
       "      <td>credit_card</td>\n",
       "      <td>2017-03-07 4:00:00</td>\n",
       "    </tr>\n",
       "    <tr>\n",
       "      <th>2017-03-04 04:00:00</th>\n",
       "      <td>61</td>\n",
       "      <td>42</td>\n",
       "      <td>607</td>\n",
       "      <td>704000</td>\n",
       "      <td>2000</td>\n",
       "      <td>credit_card</td>\n",
       "      <td>2017-03-04 4:00:00</td>\n",
       "    </tr>\n",
       "    <tr>\n",
       "      <th>2017-03-02 04:00:00</th>\n",
       "      <td>521</td>\n",
       "      <td>42</td>\n",
       "      <td>607</td>\n",
       "      <td>704000</td>\n",
       "      <td>2000</td>\n",
       "      <td>credit_card</td>\n",
       "      <td>2017-03-02 4:00:00</td>\n",
       "    </tr>\n",
       "    <tr>\n",
       "      <th>2017-03-27 22:51:43</th>\n",
       "      <td>692</td>\n",
       "      <td>78</td>\n",
       "      <td>878</td>\n",
       "      <td>154350</td>\n",
       "      <td>6</td>\n",
       "      <td>debit</td>\n",
       "      <td>2017-03-27 22:51:43</td>\n",
       "    </tr>\n",
       "    <tr>\n",
       "      <th>2017-03-24 04:00:00</th>\n",
       "      <td>1105</td>\n",
       "      <td>42</td>\n",
       "      <td>607</td>\n",
       "      <td>704000</td>\n",
       "      <td>2000</td>\n",
       "      <td>credit_card</td>\n",
       "      <td>2017-03-24 4:00:00</td>\n",
       "    </tr>\n",
       "    <tr>\n",
       "      <th>2017-03-15 04:00:00</th>\n",
       "      <td>1363</td>\n",
       "      <td>42</td>\n",
       "      <td>607</td>\n",
       "      <td>704000</td>\n",
       "      <td>2000</td>\n",
       "      <td>credit_card</td>\n",
       "      <td>2017-03-15 4:00:00</td>\n",
       "    </tr>\n",
       "    <tr>\n",
       "      <th>2017-03-11 04:00:00</th>\n",
       "      <td>1437</td>\n",
       "      <td>42</td>\n",
       "      <td>607</td>\n",
       "      <td>704000</td>\n",
       "      <td>2000</td>\n",
       "      <td>credit_card</td>\n",
       "      <td>2017-03-11 4:00:00</td>\n",
       "    </tr>\n",
       "    <tr>\n",
       "      <th>2017-03-19 04:00:00</th>\n",
       "      <td>1563</td>\n",
       "      <td>42</td>\n",
       "      <td>607</td>\n",
       "      <td>704000</td>\n",
       "      <td>2000</td>\n",
       "      <td>credit_card</td>\n",
       "      <td>2017-03-19 4:00:00</td>\n",
       "    </tr>\n",
       "    <tr>\n",
       "      <th>2017-03-17 04:00:00</th>\n",
       "      <td>1603</td>\n",
       "      <td>42</td>\n",
       "      <td>607</td>\n",
       "      <td>704000</td>\n",
       "      <td>2000</td>\n",
       "      <td>credit_card</td>\n",
       "      <td>2017-03-17 4:00:00</td>\n",
       "    </tr>\n",
       "    <tr>\n",
       "      <th>2017-03-12 04:00:00</th>\n",
       "      <td>2154</td>\n",
       "      <td>42</td>\n",
       "      <td>607</td>\n",
       "      <td>704000</td>\n",
       "      <td>2000</td>\n",
       "      <td>credit_card</td>\n",
       "      <td>2017-03-12 4:00:00</td>\n",
       "    </tr>\n",
       "    <tr>\n",
       "      <th>2017-03-07 04:00:00</th>\n",
       "      <td>2298</td>\n",
       "      <td>42</td>\n",
       "      <td>607</td>\n",
       "      <td>704000</td>\n",
       "      <td>2000</td>\n",
       "      <td>credit_card</td>\n",
       "      <td>2017-03-07 4:00:00</td>\n",
       "    </tr>\n",
       "    <tr>\n",
       "      <th>2017-03-04 04:37:34</th>\n",
       "      <td>2493</td>\n",
       "      <td>78</td>\n",
       "      <td>834</td>\n",
       "      <td>102900</td>\n",
       "      <td>4</td>\n",
       "      <td>debit</td>\n",
       "      <td>2017-03-04 4:37:34</td>\n",
       "    </tr>\n",
       "    <tr>\n",
       "      <th>2017-03-28 04:00:00</th>\n",
       "      <td>2836</td>\n",
       "      <td>42</td>\n",
       "      <td>607</td>\n",
       "      <td>704000</td>\n",
       "      <td>2000</td>\n",
       "      <td>credit_card</td>\n",
       "      <td>2017-03-28 4:00:00</td>\n",
       "    </tr>\n",
       "    <tr>\n",
       "      <th>2017-03-28 04:00:00</th>\n",
       "      <td>2970</td>\n",
       "      <td>42</td>\n",
       "      <td>607</td>\n",
       "      <td>704000</td>\n",
       "      <td>2000</td>\n",
       "      <td>credit_card</td>\n",
       "      <td>2017-03-28 4:00:00</td>\n",
       "    </tr>\n",
       "    <tr>\n",
       "      <th>2017-03-24 04:00:00</th>\n",
       "      <td>3333</td>\n",
       "      <td>42</td>\n",
       "      <td>607</td>\n",
       "      <td>704000</td>\n",
       "      <td>2000</td>\n",
       "      <td>credit_card</td>\n",
       "      <td>2017-03-24 4:00:00</td>\n",
       "    </tr>\n",
       "    <tr>\n",
       "      <th>2017-03-28 04:00:00</th>\n",
       "      <td>4057</td>\n",
       "      <td>42</td>\n",
       "      <td>607</td>\n",
       "      <td>704000</td>\n",
       "      <td>2000</td>\n",
       "      <td>credit_card</td>\n",
       "      <td>2017-03-28 4:00:00</td>\n",
       "    </tr>\n",
       "    <tr>\n",
       "      <th>2017-03-02 04:00:00</th>\n",
       "      <td>4647</td>\n",
       "      <td>42</td>\n",
       "      <td>607</td>\n",
       "      <td>704000</td>\n",
       "      <td>2000</td>\n",
       "      <td>credit_card</td>\n",
       "      <td>2017-03-02 4:00:00</td>\n",
       "    </tr>\n",
       "    <tr>\n",
       "      <th>2017-03-22 04:00:00</th>\n",
       "      <td>4869</td>\n",
       "      <td>42</td>\n",
       "      <td>607</td>\n",
       "      <td>704000</td>\n",
       "      <td>2000</td>\n",
       "      <td>credit_card</td>\n",
       "      <td>2017-03-22 4:00:00</td>\n",
       "    </tr>\n",
       "    <tr>\n",
       "      <th>2017-03-25 04:00:00</th>\n",
       "      <td>4883</td>\n",
       "      <td>42</td>\n",
       "      <td>607</td>\n",
       "      <td>704000</td>\n",
       "      <td>2000</td>\n",
       "      <td>credit_card</td>\n",
       "      <td>2017-03-25 4:00:00</td>\n",
       "    </tr>\n",
       "  </tbody>\n",
       "</table>\n",
       "</div>"
      ],
      "text/plain": [
       "                     order_id  shop_id  user_id  order_amount  total_items  \\\n",
       "created_at                                                                   \n",
       "2017-03-07 04:00:00        16       42      607        704000         2000   \n",
       "2017-03-04 04:00:00        61       42      607        704000         2000   \n",
       "2017-03-02 04:00:00       521       42      607        704000         2000   \n",
       "2017-03-27 22:51:43       692       78      878        154350            6   \n",
       "2017-03-24 04:00:00      1105       42      607        704000         2000   \n",
       "2017-03-15 04:00:00      1363       42      607        704000         2000   \n",
       "2017-03-11 04:00:00      1437       42      607        704000         2000   \n",
       "2017-03-19 04:00:00      1563       42      607        704000         2000   \n",
       "2017-03-17 04:00:00      1603       42      607        704000         2000   \n",
       "2017-03-12 04:00:00      2154       42      607        704000         2000   \n",
       "2017-03-07 04:00:00      2298       42      607        704000         2000   \n",
       "2017-03-04 04:37:34      2493       78      834        102900            4   \n",
       "2017-03-28 04:00:00      2836       42      607        704000         2000   \n",
       "2017-03-28 04:00:00      2970       42      607        704000         2000   \n",
       "2017-03-24 04:00:00      3333       42      607        704000         2000   \n",
       "2017-03-28 04:00:00      4057       42      607        704000         2000   \n",
       "2017-03-02 04:00:00      4647       42      607        704000         2000   \n",
       "2017-03-22 04:00:00      4869       42      607        704000         2000   \n",
       "2017-03-25 04:00:00      4883       42      607        704000         2000   \n",
       "\n",
       "                    payment_method           created_at  \n",
       "created_at                                               \n",
       "2017-03-07 04:00:00    credit_card   2017-03-07 4:00:00  \n",
       "2017-03-04 04:00:00    credit_card   2017-03-04 4:00:00  \n",
       "2017-03-02 04:00:00    credit_card   2017-03-02 4:00:00  \n",
       "2017-03-27 22:51:43          debit  2017-03-27 22:51:43  \n",
       "2017-03-24 04:00:00    credit_card   2017-03-24 4:00:00  \n",
       "2017-03-15 04:00:00    credit_card   2017-03-15 4:00:00  \n",
       "2017-03-11 04:00:00    credit_card   2017-03-11 4:00:00  \n",
       "2017-03-19 04:00:00    credit_card   2017-03-19 4:00:00  \n",
       "2017-03-17 04:00:00    credit_card   2017-03-17 4:00:00  \n",
       "2017-03-12 04:00:00    credit_card   2017-03-12 4:00:00  \n",
       "2017-03-07 04:00:00    credit_card   2017-03-07 4:00:00  \n",
       "2017-03-04 04:37:34          debit   2017-03-04 4:37:34  \n",
       "2017-03-28 04:00:00    credit_card   2017-03-28 4:00:00  \n",
       "2017-03-28 04:00:00    credit_card   2017-03-28 4:00:00  \n",
       "2017-03-24 04:00:00    credit_card   2017-03-24 4:00:00  \n",
       "2017-03-28 04:00:00    credit_card   2017-03-28 4:00:00  \n",
       "2017-03-02 04:00:00    credit_card   2017-03-02 4:00:00  \n",
       "2017-03-22 04:00:00    credit_card   2017-03-22 4:00:00  \n",
       "2017-03-25 04:00:00    credit_card   2017-03-25 4:00:00  "
      ]
     },
     "execution_count": 10,
     "metadata": {},
     "output_type": "execute_result"
    }
   ],
   "source": [
    "# Check for orders with value greater than $100K\n",
    "data.query('order_amount > 100_000')"
   ]
  },
  {
   "cell_type": "markdown",
   "metadata": {},
   "source": [
    "We see that majority of these orders are for a large quantity of items, which suggests that looking at the value of each item in the order, rather than the total order value might be one approach to consider."
   ]
  },
  {
   "cell_type": "markdown",
   "metadata": {},
   "source": [
    "### 1b & 1c"
   ]
  },
  {
   "cell_type": "markdown",
   "metadata": {},
   "source": [
    "Ultimately, how we choose to address the issues highlighted above would depend on what metric we are really trying to compute here. If the interest is in the central tendency of total values of orders, irrespective of the number of items in the order, then looking at the median order value would be one potential way to discount the effect of the outliers.\n",
    "\n",
    "However, the question prompt did mention that we have an expectation that the Average Order Value would be lower, since Sneakers are relatively inexpensive items. This suggest to me that we are really interested in the Average value of each item ordered from the Sneaker shops within the one-month period. \n",
    "\n",
    "Assuming then that we want to calculate an average Value of each unit of item ordered within the period, we can calculate the unit price of each item ordered by dividing the order amount by the quantity of items ordered, and then calculate our average using this calculated column as shown below. This would represent the `Average Revenue Per Unit(ARPU)` across all the sneaker stores."
   ]
  },
  {
   "cell_type": "code",
   "execution_count": 11,
   "metadata": {},
   "outputs": [],
   "source": [
    "data['order_unit_value'] = data['order_amount'] / data['total_items']"
   ]
  },
  {
   "cell_type": "code",
   "execution_count": 12,
   "metadata": {},
   "outputs": [
    {
     "name": "stdout",
     "output_type": "stream",
     "text": [
      "The ARPU is: $387.74\n"
     ]
    }
   ],
   "source": [
    "ARPU = data.groupby(pd.Grouper(freq='M'))['order_unit_value'].mean().values[0]\n",
    "print(f\"The ARPU is: ${ARPU:.2f}\")"
   ]
  },
  {
   "cell_type": "markdown",
   "metadata": {},
   "source": [
    "In summary, the **Average Revenue Per Unit(ARPU)** might be a better metric, and the value of this metric across all stores is **$387.74**"
   ]
  },
  {
   "cell_type": "markdown",
   "metadata": {},
   "source": [
    "## Question 2"
   ]
  },
  {
   "cell_type": "markdown",
   "metadata": {},
   "source": [
    "To make this part of the analysis easily reproducible, I decided to re-create the reference database as a SQLite database, and then run my queries here against this database.\n",
    "\n",
    "To do this, I copied the data from the database tables into CSV files, and then developed a Python script that creates the database and required tables, with a minimum viable schema. The `create_tables.py` file accomplishes this.\n",
    "\n",
    "Once the database has been re-created, running `etl.py` copies the data from the CSV files into the appropriate database tables. A copy of the database has been uploaded along with the relevant scripts to the repo containing this notebook."
   ]
  },
  {
   "cell_type": "code",
   "execution_count": 13,
   "metadata": {},
   "outputs": [],
   "source": [
    "# Connect to the database\n",
    "conn = sqlite3.connect('orders_data.sqlite')\n",
    "cur = conn.cursor()"
   ]
  },
  {
   "cell_type": "markdown",
   "metadata": {},
   "source": [
    "### 2a) Number of Items Shipped by Speedy Express"
   ]
  },
  {
   "cell_type": "code",
   "execution_count": 14,
   "metadata": {},
   "outputs": [],
   "source": [
    "QUERY_1 = \"\"\"SELECT count(OrderID) FROM Orders\n",
    "WHERE ShipperID = \n",
    "(SELECT ShipperID from Shippers WHERE ShipperName = 'Speedy Express');\"\"\""
   ]
  },
  {
   "cell_type": "code",
   "execution_count": 15,
   "metadata": {},
   "outputs": [
    {
     "data": {
      "text/plain": [
       "54"
      ]
     },
     "execution_count": 15,
     "metadata": {},
     "output_type": "execute_result"
    }
   ],
   "source": [
    "cur.execute(QUERY_1).fetchall()[0][0]"
   ]
  },
  {
   "cell_type": "markdown",
   "metadata": {},
   "source": [
    "**Speedy Express** shipped a total of **54 orders**."
   ]
  },
  {
   "cell_type": "markdown",
   "metadata": {},
   "source": [
    "## 2b) Last Name of the employee with the most orders"
   ]
  },
  {
   "cell_type": "code",
   "execution_count": 16,
   "metadata": {},
   "outputs": [],
   "source": [
    "QUERY_2 = \"\"\"SELECT LastName\n",
    "FROM Employees \n",
    "WHERE EmployeeID = \n",
    "(SELECT EmployeeID\n",
    "FROM Orders\n",
    "GROUP BY EmployeeID\n",
    "ORDER BY COUNT(EmployeeID) DESC\n",
    "LIMIT 1);\"\"\""
   ]
  },
  {
   "cell_type": "code",
   "execution_count": 17,
   "metadata": {},
   "outputs": [
    {
     "data": {
      "text/plain": [
       "'Peacock'"
      ]
     },
     "execution_count": 17,
     "metadata": {},
     "output_type": "execute_result"
    }
   ],
   "source": [
    "cur.execute(QUERY_2).fetchall()[0][0]"
   ]
  },
  {
   "cell_type": "markdown",
   "metadata": {},
   "source": [
    "The employee with the most orders had the last name **Peacock**"
   ]
  },
  {
   "cell_type": "markdown",
   "metadata": {},
   "source": [
    "N/B: The reference database provided in the challenge was an SQL Server/MS Access, which doesn't support the LIMIT clause. The query below would produce the same result"
   ]
  },
  {
   "cell_type": "code",
   "execution_count": 18,
   "metadata": {},
   "outputs": [],
   "source": [
    "ALTERNATIVE_QUERY_FOR_MS_ACCESS = \"\"\"SELECT LastName\n",
    "FROM Employees \n",
    "WHERE EmployeeID = \n",
    "(SELECT TOP 1, EmployeeID\n",
    "FROM Orders\n",
    "GROUP BY EmployeeID\n",
    "ORDER BY COUNT(*) DESC);\"\"\""
   ]
  },
  {
   "cell_type": "markdown",
   "metadata": {},
   "source": [
    "## 2c) Product ordered the most by customers in Germany"
   ]
  },
  {
   "cell_type": "code",
   "execution_count": 19,
   "metadata": {},
   "outputs": [],
   "source": [
    "QUERY_3 = \"\"\"SELECT sub.ProductName FROM\n",
    "(SELECT Products.ProductName, SUM(OrderDetails.Quantity) AS quantity_ordered\n",
    "FROM Products INNER JOIN OrderDetails ON \n",
    "Products.ProductID = OrderDetails.ProductID\n",
    "WHERE OrderDetails.OrderID IN \n",
    "(SELECT Orders.OrderID FROM Customers\n",
    "INNER JOIN Orders ON Customers.CustomerID = Orders.CustomerID\n",
    "WHERE Customers.Country = 'Germany')\n",
    "GROUP BY Products.ProductName\n",
    "ORDER BY 2 DESC\n",
    "LIMIT 1) sub;\"\"\""
   ]
  },
  {
   "cell_type": "code",
   "execution_count": 20,
   "metadata": {},
   "outputs": [
    {
     "data": {
      "text/plain": [
       "('Boston Crab Meat',)"
      ]
     },
     "execution_count": 20,
     "metadata": {},
     "output_type": "execute_result"
    }
   ],
   "source": [
    "conn.execute(QUERY_3).fetchall()[0]"
   ]
  },
  {
   "cell_type": "markdown",
   "metadata": {},
   "source": [
    "**Boston Crab Meat** was ordered the most by customers in Germany"
   ]
  }
 ],
 "metadata": {
  "kernelspec": {
   "display_name": "Python 3",
   "language": "python",
   "name": "python3"
  },
  "language_info": {
   "codemirror_mode": {
    "name": "ipython",
    "version": 3
   },
   "file_extension": ".py",
   "mimetype": "text/x-python",
   "name": "python",
   "nbconvert_exporter": "python",
   "pygments_lexer": "ipython3",
   "version": "3.8.5"
  }
 },
 "nbformat": 4,
 "nbformat_minor": 4
}
